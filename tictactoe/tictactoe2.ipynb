{
 "cells": [
  {
   "cell_type": "code",
   "execution_count": 1,
   "metadata": {},
   "outputs": [],
   "source": [
    "import numpy as np\n",
    "import pickle,gym\n",
    "from gym import spaces\n",
    "\n",
    "BOARD_ROWS,BOARD_COLS = 3,3"
   ]
  },
  {
   "cell_type": "code",
   "execution_count": null,
   "metadata": {},
   "outputs": [],
   "source": [
    "# Class that implements the Gym Environment Interface\n",
    "class TicTacToeEnv(gym.Env):\n",
    "    def __init__(self):\n",
    "        # Board is always 3x3 for tic tac toe\n",
    "        self.action_space = spaces.Discrete(BOARD_ROWS * BOARD_COLS)\n",
    "        self.observation_space = spaces.Discrete(BOARD_ROWS * BOARD_COLS)\n",
    "        self.gameOver = False\n",
    "        self.playerTurn = 1\n",
    "    \n",
    "    def reset(self):\n",
    "        self.board = np.zeros((BOARD_ROWS, BOARD_COLS))\n",
    "        self.boardHash = None\n",
    "        self.gameOver = False\n",
    "        self.playerTurn = 1\n",
    "        \n",
    "    def step(self, action):\n",
    "        \n",
    "        \n",
    "    # After each move, check if there's a winner and give out rewards\n",
    "    def winner(self):\n",
    "        # Row win\n",
    "        for i in range(BOARD_ROWS):\n",
    "            # p1 wins\n",
    "            if sum(self.board[i, :]) == 3:\n",
    "                self.gameOver = True\n",
    "                return 1\n",
    "            # p2 wins\n",
    "            elif sum(self.board[i, :]) == -3:\n",
    "                self.gameOver = True\n",
    "                return -1\n",
    "            \n",
    "        # Column win \n",
    "        for i in range(BOARD_COLS):\n",
    "            if sum(self.board[:, i]) == 3:\n",
    "                self.gameOver = True\n",
    "                return 1\n",
    "            elif sum(self.board[:, i]) == -3:\n",
    "                self.gameOver = True\n",
    "                return -1\n",
    "            \n",
    "        # Diagonal win\n",
    "        diag1 = sum([self.board[i, i] for i in range(BOARD_COLS)])\n",
    "        diag2 = sum([self.board[i, BOARD_COLS - i - 1] for i in range(BOARD_COLS)])\n",
    "        if diag1 == 3 or diag2 == 3:\n",
    "            self.gameOver = True\n",
    "            return 1\n",
    "        elif diag1 == -3 or diag2 == -3:\n",
    "            self.gameOver = True\n",
    "            return -1\n",
    "        \n",
    "        # Tie\n",
    "        if not len(self.availablePositions()):\n",
    "            self.gameOver = True\n",
    "            return 0\n",
    "        \n",
    "        # Game not over\n",
    "        self.gameOver = False\n",
    "        return None"
   ]
  }
 ],
 "metadata": {
  "kernelspec": {
   "display_name": "Python 3",
   "language": "python",
   "name": "python3"
  },
  "language_info": {
   "codemirror_mode": {
    "name": "ipython",
    "version": 3
   },
   "file_extension": ".py",
   "mimetype": "text/x-python",
   "name": "python",
   "nbconvert_exporter": "python",
   "pygments_lexer": "ipython3",
   "version": "3.7.3"
  }
 },
 "nbformat": 4,
 "nbformat_minor": 4
}
